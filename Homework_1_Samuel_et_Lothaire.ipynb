{
 "cells": [
  {
   "cell_type": "code",
   "execution_count": null,
   "id": "d070abb0-f83b-49ac-8ee9-d74da6dde4be",
   "metadata": {},
   "outputs": [],
   "source": [
    "# Homework 1 - Samuel Dobrossy and Lothaire Lemarquis\n",
    "\n",
    "# Data importation process\n",
    "\n",
    "import json\n",
    "import pymongo\n",
    "import pandas as pd\n",
    "import tqdm\n",
    "\n",
    "client = pymongo.MongoClient('localhost', 27017)\n",
    "\n",
    "# Creation of the database\n",
    "\n",
    "my_db = client[\"Homework_1\"]\n",
    "\n",
    "# Creation of the article collection \n",
    "\n",
    "collection = my_db[\"pubmed_cleaned\"]\n",
    "with open(r\"C:\\NoSQL-master\\data\\Chap3\\pubmed_cleaned\\pubmed_cleaned.json\") as file:\n",
    "    file_data = json.load(file)\n",
    "\n",
    "print(collection)"
   ]
  },
  {
   "cell_type": "code",
   "execution_count": null,
   "id": "88a6346e",
   "metadata": {},
   "outputs": [],
   "source": [
    "from bson import ObjectId\n",
    "\n",
    "# Conversion of IDs into ObjectId\n",
    "for document in file_data:\n",
    "    if '_id' in document and '$oid' in document['_id']:\n",
    "        document['_id'] = ObjectId(document['_id']['$oid'])\n",
    "\n",
    "# Insertion of the data into the collection\n",
    "collection.insert_many(file_data)\n"
   ]
  },
  {
   "cell_type": "code",
   "execution_count": null,
   "id": "5ddad44e-2a73-49c2-ae45-65531906510c",
   "metadata": {},
   "outputs": [],
   "source": [
    "from bson import ObjectId\n",
    "from pymongo import MongoClient\n",
    "\n",
    "# Conversion of IDs into ObjectId\n",
    "\n",
    "for document in file_data:\n",
    "    if '_id' in document and '$oid' in document['_id']:\n",
    "        document['_id'] = ObjectId(document['_id']['$oid'])\n",
    "\n",
    "# Insertion of the data into the collection\n",
    "\n",
    "collection.insert_many(file_data)"
   ]
  },
  {
   "cell_type": "code",
   "execution_count": null,
   "id": "eff93a12-68e0-42a8-a0ec-275dbab02dad",
   "metadata": {},
   "outputs": [],
   "source": [
    "# Let's retrieve the first document in the collection\n",
    "\n",
    "document = collection.find_one()\n",
    "print(document)"
   ]
  },
  {
   "cell_type": "code",
   "execution_count": null,
   "id": "f82255f6-5f6f-4eb6-840f-65ee2887aa3e",
   "metadata": {},
   "outputs": [],
   "source": [
    "from datetime import datetime\n",
    "\n",
    "# Delete all the articles published before 2019\n",
    "\n",
    "date_prior = datetime(2019, 1, 1, 0, 0)\n",
    "result = collection.delete_many({\"date\": {\"$lt\": date_prior}})\n",
    "print(f\"Number of deleted articles: {result.deleted_count}\")\n"
   ]
  },
  {
   "cell_type": "code",
   "execution_count": null,
   "id": "775144b3-4355-4cc0-9f7f-c7daf6a834ce",
   "metadata": {},
   "outputs": [],
   "source": [
    "# Compute the number of articles with only one author\n",
    "\n",
    "mono_author = collection.count_documents({\"authors\": {\"$regex\": \"name ml\"}})\n",
    "print(f\"Number of articles with only one author : {mono_author}\")"
   ]
  },
  {
   "cell_type": "code",
   "execution_count": null,
   "id": "5e8badec-361c-4160-b2f8-2911da8c0e69",
   "metadata": {},
   "outputs": [],
   "source": [
    "# Establishing counting system for articles with one or two authors\n",
    "\n",
    "nb_1_author = 0\n",
    "nb_2_authors = 0\n",
    "\n",
    "# Number of articles with one or two authors\n",
    "\n",
    "for document in collection.find():\n",
    "    authors = document['authors'].split(', ')\n",
    "    num_authors = len(authors)\n",
    "    if num_authors == 1:\n",
    "        nb_1_author += 1\n",
    "    elif num_authors == 2:\n",
    "        nb_2_authors += 1\n",
    "\n",
    "# Results\n",
    "\n",
    "print(\"Number of articles with only one author :\", nb_1_author)\n",
    "print(\"Number of articles with two authors :\", nb_2_authors)"
   ]
  },
  {
   "cell_type": "code",
   "execution_count": null,
   "id": "297c90e2-7400-4163-a957-2a4e5d594330",
   "metadata": {},
   "outputs": [],
   "source": [
    "# Finding the last article of the collection\n",
    "\n",
    "final_paper = collection.find_one(sort=[('_id', -1)])\n",
    "\n",
    "# Details about the final article\n",
    "\n",
    "print(\"Last inserted document :\")\n",
    "print(\"Title :\", final_paper['title'])\n",
    "print(\"Authors :\", final_paper['authors'])\n",
    "print(\"Date :\", final_paper['date'])"
   ]
  },
  {
   "cell_type": "code",
   "execution_count": null,
   "id": "1b736dad-128f-4ebc-9182-00060b7324b7",
   "metadata": {},
   "outputs": [],
   "source": [
    "from pymongo import MongoClient\n",
    "\n",
    "# Connect to the database and select the collection\n",
    "\n",
    "client = MongoClient('localhost', 27017)\n",
    "db = client['Homework_1']\n",
    "collection = db['pubmed']\n",
    "\n",
    "# Find articles with null meshwords\n",
    "\n",
    "query = {\"meshwords\": {\"$in\": [None, \"\"]}}\n",
    "null_meshwords_articles = collection.find(query)\n",
    "\n",
    "# Results\n",
    "\n",
    "print(\"Articles with null meshwords:\")\n",
    "for article in null_meshwords_articles:\n",
    "    print(\"Title:\", article['title'])"
   ]
  },
  {
   "cell_type": "code",
   "execution_count": null,
   "id": "1dc01568-49fb-4ddb-b27c-4e3a57d59cb8",
   "metadata": {},
   "outputs": [],
   "source": [
    "from pymongo import MongoClient\n",
    "\n",
    "client = MongoClient('localhost', 27017)\n",
    "db = client['homework']\n",
    "collection = db['pubmed']\n",
    "keyword = \"machine learning\" \n",
    "\n",
    "# Count the number of articles containing the keyword in the meshwords, title or abstract\n",
    "\n",
    "nombre_articles = collection.count_documents({\n",
    "    \"$or\": [\n",
    "        {\"meshwords\": {\"$regex\": f\".*{keyword}.*\", \"$options\": \"i\"}},\n",
    "        {\"abstract\": {\"$regex\": f\".*{keyword}.*\", \"$options\": \"i\"}},\n",
    "        {\"title\": {\"$regex\": f\".*{keyword}.*\", \"$options\": \"i\"}}\n",
    "    ]\n",
    "})\n",
    "\n",
    "print(f\"Number of articles containing the selected key word '{keyword}': {nombre_articles}\")"
   ]
  },
  {
   "cell_type": "code",
   "execution_count": null,
   "id": "d21792df-f95f-478b-8ea6-a9a7e7942b0c",
   "metadata": {},
   "outputs": [],
   "source": [
    "article_count = collection.count_documents({\n",
    "    \"$and\": [\n",
    "        {\"affiliations\": {\"$exists\": True}},\n",
    "        {\"meshwords\": {\"$exists\": True}}\n",
    "    ]\n",
    "})\n",
    "\n",
    "print(f\"Number of articles with at least one affiliation and meshwords: {article_count}\")"
   ]
  },
  {
   "cell_type": "code",
   "execution_count": null,
   "id": "410ec19c-3145-4fb9-a8f9-637b60edd09e",
   "metadata": {},
   "outputs": [],
   "source": [
    "# Number of articles with a publishing date after 2020\n",
    "\n",
    "article_count = collection.count_documents({\n",
    "    \"date\": {\"$gt\": \"year 2020\"}\n",
    "})\n",
    "\n",
    "print(f\"Number of articles with a publishing date after 2020: {article_count}\")"
   ]
  },
  {
   "cell_type": "code",
   "execution_count": null,
   "id": "363d36e4-a383-4a5d-8710-45c93bbfde41",
   "metadata": {},
   "outputs": [],
   "source": [
    "article_count = collection.count_documents({\n",
    "    \"authors\": {\"$regex\": \"China\"}})\n",
    "print(\"Number of articles with at least one affiliation from Hungary:\", article_count)\n",
    "article_country= collection.find({\"authors\":{\"$regex\": \"Hungary\"}})\n",
    "for article in article_country:\n",
    "    print(\"ID:\", article[\"_id\"],\"Title :\", article[\"title\"])"
   ]
  },
  {
   "cell_type": "code",
   "execution_count": null,
   "id": "3a22a7ff-7d5f-4f58-be9f-186431bd121e",
   "metadata": {},
   "outputs": [],
   "source": [
    "# Check for duplicates\n",
    "\n",
    "distinct_pmids = collection.distinct(\"pmid\")\n",
    "\n",
    "duplicates = len(distinct_pmids) != collection.count_documents({})\n",
    "\n",
    "# Results\n",
    "\n",
    "if duplicates:\n",
    "    print(\"Duplicates have been detected.\")\n",
    "else:\n",
    "    print(\"No duplicates have been detected.\")\n"
   ]
  },
  {
   "cell_type": "code",
   "execution_count": null,
   "id": "f782b65b-997e-4b19-98f3-3cc75beacb5d",
   "metadata": {},
   "outputs": [],
   "source": [
    "# Detect every article where the abstract starts with an \"R\" and then remove them\n",
    "\n",
    "r_abstract = list(collection.find({\"abstract\": {\"$regex\": \"^R\"}}))\n",
    "\n",
    "# Delete those articles\n",
    "\n",
    "for article in r_abstract:\n",
    "    collection.delete_one({\"_id\": article[\"_id\"]})\n",
    "\n",
    "# Check how many articles are left in the collection\n",
    "\n",
    "article_count = collection.count_documents({})\n",
    "print(f\"{article_count} articles remaining in collection.\")"
   ]
  },
  {
   "cell_type": "code",
   "execution_count": null,
   "id": "65de40b5-d3c6-410a-8d1f-d32e84f2eedb",
   "metadata": {},
   "outputs": [],
   "source": [
    "articles_filtres = collection.find({\"abstract\": {\"$regex\": \"^\\\\s*\\\"R\"}})\n",
    "for article in articles_filtres:\n",
    "    print(\"title :\", article[\"title\"])\n",
    "    print(\"abstract :\", article[\"abstract\"])"
   ]
  },
  {
   "cell_type": "code",
   "execution_count": null,
   "id": "33a62d07-b0cc-4128-ba46-b52de386d34d",
   "metadata": {},
   "outputs": [],
   "source": [
    "print(\"init count: \",collection.count_documents({\"abstract\": {\"$regex\": \"^\\\\s*\\\"R\"}}))\n",
    "collection.delete_many({\"abstract\": {\"$regex\": \"^\\\\s*\\\"R\"}})\n",
    "print(\"after the deleting process : \",collection.count_documents({\"abstract\": {\"$regex\": \"^\\\\s*\\\"R\"}}))"
   ]
  },
  {
   "cell_type": "code",
   "execution_count": null,
   "id": "c17a312b-f0c7-450a-942b-0316379323d8",
   "metadata": {},
   "outputs": [],
   "source": [
    "# Returns the list of articles (pmid) where each author has at least one affiliation\n",
    "\n",
    "articles = collection.find(\n",
    "    {\"authors\": {\"$exists\": True}}\n",
    ")\n",
    "liste_articles = [article[\"pmid\"] for article in articles if len(article.get(\"authors\", [])) > 0]\n",
    "print(liste_articles)"
   ]
  },
  {
   "cell_type": "code",
   "execution_count": null,
   "id": "7d72a9b5-cb6b-4aa2-92e4-ddc341f21e4e",
   "metadata": {},
   "outputs": [],
   "source": [
    "#Create 500 random samples from the dataset and then calculate a statistic of interest and check its behavior across the different samples\n",
    "\n",
    "# Define the number of samples\n",
    "\n",
    "num_samples = 500\n",
    "\n",
    "#Define the statistic of interest\n",
    "\n",
    "statistics = []\n",
    "\n",
    "# Sample and calculate the statistic for each sample\n",
    "\n",
    "for i in range(num_samples):\n",
    "    # Sample documents randomly from the collection\n",
    "    sample = collection.aggregate([\n",
    "        {\"$sample\": {\"size\": 100}}  # Adjust sample size as needed\n",
    "    ])\n",
    "\n",
    "    # Calculate the statistic of interest for the sample\n",
    "    # Here we calculate the average team size\n",
    "\n",
    "    team_sizes = [doc.get(\"team_size\", 0) for doc in sample]\n",
    "    average_team_size = sum(team_sizes) / len(team_sizes)\n",
    "    \n",
    "    # Add the calculated statistic to the list\n",
    "\n",
    "    statistics.append(average_team_size)\n",
    "\n",
    "# Show statistics\n",
    "print(statistics)"
   ]
  }
 ],
 "metadata": {
  "kernelspec": {
   "display_name": "Python 3 (ipykernel)",
   "language": "python",
   "name": "python3"
  },
  "language_info": {
   "codemirror_mode": {
    "name": "ipython",
    "version": 3
   },
   "file_extension": ".py",
   "mimetype": "text/x-python",
   "name": "python",
   "nbconvert_exporter": "python",
   "pygments_lexer": "ipython3",
   "version": "3.9.13"
  }
 },
 "nbformat": 4,
 "nbformat_minor": 5
}

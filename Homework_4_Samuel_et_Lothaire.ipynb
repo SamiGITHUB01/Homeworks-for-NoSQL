{
 "cells": [
  {
   "cell_type": "code",
   "execution_count": null,
   "id": "1509befb-25ab-4e3e-8722-063f0b27f003",
   "metadata": {},
   "outputs": [],
   "source": [
    "# Homework 4 - Samuel Dobrossy and Lothaire Lemarquis\n",
    "\n",
    "# Les acteurs ayant joués dans plus de 2 films - leurs noms et date de naissance.\n",
    "\n",
    "import py2neo\n",
    "from py2neo import Graph\n",
    "\n",
    "graph_1 = py2neo.Graph(\"bolt://localhost:7687\", auth=(\"neo4j\", \"password_tuts\"),name=\"neo4j\")\n",
    "query = \"\"\"\n",
    "MATCH (m:Movie)<-[:ACTED_IN]-(play:Person)\n",
    "with play, count(m) as film where film > 2\n",
    "return play\n",
    "\"\"\"\n",
    "graph.run(query)\n"
   ]
  },
  {
   "cell_type": "code",
   "execution_count": null,
   "id": "012e29a4-a65d-4c0c-8947-a1ddf9f089e7",
   "metadata": {},
   "outputs": [],
   "source": [
    "# Nombre de films avec Tom Hanks\n",
    "\n",
    "query = \"\"\"\n",
    "MATCH (m:Movie)<-[:ACTED_IN]-(play:Person{name:\"Tom Hanks\"})\n",
    "with count(play.name) as nombre\n",
    "return nombre\n",
    "\"\"\"\n",
    "graph.run(query)\n",
    "\n",
    "# Tom Hanks a joué dans 24 films"
   ]
  },
  {
   "cell_type": "code",
   "execution_count": null,
   "id": "5ef684a9-dc15-4239-a183-237dba3467c5",
   "metadata": {},
   "outputs": [],
   "source": [
    "# La moyenne de films joués par les acteurs\n",
    "\n",
    "query = \"\"\"\n",
    "MATCH (m:Movie)<-[:ACTED_IN]-(play:Person)\n",
    "with play, count(m) as film\n",
    "return avg(film)\n",
    "\"\"\"\n",
    "graph.run(query)\n",
    "\n",
    "# Average : les acteurs jouent dans ~ 1.68 films en moyenne"
   ]
  },
  {
   "cell_type": "code",
   "execution_count": null,
   "id": "628860d9-4cdf-4e41-ad71-a8fb44455b23",
   "metadata": {},
   "outputs": [],
   "source": [
    "# Nombre d'acteurs en moyenne par film\n",
    "\n",
    "query = \"\"\"\n",
    "MATCH (m:Movie)<-[:ACTED_IN]-(play:Person)\n",
    "with m, count(play.name) as nombre\n",
    "return avg(nombre)\n",
    "\"\"\"\n",
    "graph.run(query)\n",
    "\n",
    "# Average : il y a 4.52 acteurs par movies"
   ]
  },
  {
   "cell_type": "code",
   "execution_count": null,
   "id": "69979058-2f9b-48b0-b912-2e9fc3e3626d",
   "metadata": {},
   "outputs": [],
   "source": [
    "# Nombre moyen d'écrivains / scénaristes nécessaire pour développer le script par film\n",
    "\n",
    "query= \"\"\"\n",
    "MATCH (P:Person)-[:WROTE]->(m:Movie)\n",
    "with m,count(P.name) as nombre\n",
    "RETURN avg(nombre)\n",
    "\"\"\"\n",
    "graph.run(query)\n",
    "\n",
    "# Average : il y a 1.25 scénaristes par film"
   ]
  },
  {
   "cell_type": "code",
   "execution_count": null,
   "id": "30d70649-a3aa-48c3-8c2f-cc459913701a",
   "metadata": {},
   "outputs": [],
   "source": [
    "# La proportion d'écrivains ayant également directed un film\n",
    "\n",
    "query1 =\"\"\"\n",
    "MATCH (m:Movie)<-[:WROTE]-(d:DIRECTED)\n",
    "with count(d.name) as nombre\n",
    "return nombre\n",
    "\"\"\"\n",
    "graph.run(query1)\n",
    "\n",
    "# Average : Il n'y a aucun écrivains - directeurs (quel plot-twist, c'est assez surprenant !!)"
   ]
  },
  {
   "cell_type": "code",
   "execution_count": null,
   "id": "c61fea8d-1c7b-4d2d-aabc-f74a9e8ae133",
   "metadata": {},
   "outputs": [],
   "source": [
    "#  Histogram de la date de sortie des films\n",
    "\n",
    "import seaborn as sns\n",
    "%matplotlib inline\n",
    "\n",
    "query =\"\"\" Match (year:Movie) return year.released \"\"\"\n",
    "data =graph.run(query).to_data_frame()\n",
    "sns.distplot(data['year.released'])"
   ]
  },
  {
   "cell_type": "code",
   "execution_count": null,
   "id": "35002114-826b-4171-beaf-dc6542b41ac6",
   "metadata": {},
   "outputs": [],
   "source": [
    "# Le top 10 des acteurs les plus actifs (nombre de films)\n",
    "\n",
    "query = \"\"\"\n",
    "MATCH (m:Movie)<-[:ACTED_IN]-(play:Person)\n",
    "return play.name ,count(m) as nombre_films\n",
    "Order by nombre_films desc\n",
    "Limit 10\n",
    "\"\"\"\n",
    "graph.run(query)"
   ]
  },
  {
   "cell_type": "code",
   "execution_count": null,
   "id": "1e88dbd3-1498-458d-857d-83440bb34f1f",
   "metadata": {},
   "outputs": [],
   "source": [
    "# On supprime tous les films produit par le directeur de notre choix \n",
    "query=\"\"\"\n",
    "MATCH (p:Person{name:\"Quentin Tarantino\"})-[:DIRECTED]->(m:Movie)\n",
    "DETACH DELETE m\n",
    "\"\"\"\n",
    "graph.run(query)\n"
   ]
  }
 ],
 "metadata": {
  "kernelspec": {
   "display_name": "Python 3 (ipykernel)",
   "language": "python",
   "name": "python3"
  },
  "language_info": {
   "codemirror_mode": {
    "name": "ipython",
    "version": 3
   },
   "file_extension": ".py",
   "mimetype": "text/x-python",
   "name": "python",
   "nbconvert_exporter": "python",
   "pygments_lexer": "ipython3",
   "version": "3.9.13"
  }
 },
 "nbformat": 4,
 "nbformat_minor": 5
}
